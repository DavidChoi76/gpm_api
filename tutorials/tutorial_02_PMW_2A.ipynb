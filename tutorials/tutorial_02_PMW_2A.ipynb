{
 "cells": [
  {
   "cell_type": "markdown",
   "id": "488399ad",
   "metadata": {},
   "source": [
    "# Tutorial 2 - Read, manipulate and analyze the 2A PMW products"
   ]
  },
  {
   "cell_type": "markdown",
   "id": "88fb2bab",
   "metadata": {},
   "source": [
    "First, let's import the package required in this tutorial."
   ]
  },
  {
   "cell_type": "code",
   "execution_count": 45,
   "id": "93ba8b90",
   "metadata": {},
   "outputs": [],
   "source": [
    "import gpm_api\n",
    "import datetime"
   ]
  },
  {
   "cell_type": "markdown",
   "id": "0ca30f1c",
   "metadata": {},
   "source": [
    "Let's have a look at the available PMW products:"
   ]
  },
  {
   "cell_type": "code",
   "execution_count": 46,
   "id": "ecebb880",
   "metadata": {},
   "outputs": [
    {
     "data": {
      "text/plain": [
       "['2A-GMI',\n",
       " '2A-TMI',\n",
       " '2A-SSMI-F08',\n",
       " '2A-SSMI-F10',\n",
       " '2A-SSMI-F11',\n",
       " '2A-SSMI-F13',\n",
       " '2A-SSMI-F14',\n",
       " '2A-SSMI-F15',\n",
       " '2A-SSMIS-F16',\n",
       " '2A-SSMIS-F17',\n",
       " '2A-SSMIS-F18',\n",
       " '2A-SSMIS-F19',\n",
       " '2A-AMSR2-GCOMW1',\n",
       " '2A-AMSRE-AQUA',\n",
       " '2A-AMSUB-NOAA15',\n",
       " '2A-AMSUB-NOAA16',\n",
       " '2A-AMSUB-NOAA17',\n",
       " '2A-MHS-METOPA',\n",
       " '2A-MHS-METOPB',\n",
       " '2A-MHS-METOPC',\n",
       " '2A-MHS-NOAA18',\n",
       " '2A-MHS-NOAA19',\n",
       " '2A-ATMS-NOAA20',\n",
       " '2A-ATMS-NPP']"
      ]
     },
     "execution_count": 46,
     "metadata": {},
     "output_type": "execute_result"
    }
   ],
   "source": [
    "from gpm_api.io.products import GPM_PMW_2A_GPROF_RS_products\n",
    "GPM_PMW_2A_GPROF_RS_products()"
   ]
  },
  {
   "cell_type": "markdown",
   "id": "373998c3",
   "metadata": {},
   "source": [
    "# 1. Data download"
   ]
  },
  {
   "cell_type": "markdown",
   "id": "8ba10073",
   "metadata": {},
   "source": [
    "Now let's download a 2A PMW product over a couple of hours."
   ]
  },
  {
   "cell_type": "code",
   "execution_count": null,
   "id": "82f397a7",
   "metadata": {},
   "outputs": [],
   "source": [
    "# Specify the time period you are interested in \n",
    "start_time = datetime.datetime.strptime(\"2020-08-01 12:00:00\", \"%Y-%m-%d %H:%M:%S\")\n",
    "end_time = datetime.datetime.strptime(\"2020-08-02 12:00:00\", \"%Y-%m-%d %H:%M:%S\")\n",
    "# Specify the product and product type \n",
    "product = \"2A-MHS-METOPB\" # \"2A-GMI\", \"2A-SSMIS-F17\", ...\n",
    "product_type = \"RS\"    \n",
    "# Specify the version\n",
    "version = 7\n",
    "\n",
    "# Download the data\n",
    "gpm_api.download(\n",
    "    product=product,\n",
    "    product_type=product_type,\n",
    "    version=version,\n",
    "    start_time=start_time,\n",
    "    end_time=end_time,\n",
    "    force_download=False,\n",
    "    verbose=True,\n",
    "    progress_bar=True,\n",
    "    check_integrity=False,\n",
    ")\n"
   ]
  },
  {
   "cell_type": "markdown",
   "id": "b84b6f51",
   "metadata": {},
   "source": [
    "Once, the data are downloaded on disk, let's load the 2A product and look at the dataset structure."
   ]
  },
  {
   "cell_type": "markdown",
   "id": "d3e8d5e9",
   "metadata": {},
   "source": [
    "## 2. Data Loading"
   ]
  },
  {
   "cell_type": "code",
   "execution_count": null,
   "id": "f76ca515",
   "metadata": {},
   "outputs": [],
   "source": [
    "# Load the dataset\n",
    "# - If chunks is not None, it does not load the data in RAM memory !\n",
    "# - If scan_mode is not specified, it automatically load one! \n",
    "ds = gpm_api.open_dataset(\n",
    "    product=product,\n",
    "    product_type=product_type,\n",
    "    version=version,\n",
    "    start_time=start_time,\n",
    "    end_time=end_time,\n",
    "    chunks=\"auto\",\n",
    ")\n",
    "ds"
   ]
  },
  {
   "cell_type": "markdown",
   "id": "9c425a5d",
   "metadata": {},
   "source": [
    "If you want to load another `scan_mode`, first have a look at the available ones:"
   ]
  },
  {
   "cell_type": "code",
   "execution_count": null,
   "id": "884e3ba4",
   "metadata": {},
   "outputs": [],
   "source": [
    "gpm_api.available_scan_modes(product=product, version=version)"
   ]
  },
  {
   "cell_type": "markdown",
   "id": "04fa8139",
   "metadata": {},
   "source": [
    "and then specify the `scan_mode` argument in `open_dataset`:"
   ]
  },
  {
   "cell_type": "code",
   "execution_count": null,
   "id": "d39f2269",
   "metadata": {},
   "outputs": [],
   "source": [
    "ds = gpm_api.open_dataset(\n",
    "    product=product,\n",
    "    product_type=product_type,\n",
    "    version=version,\n",
    "    start_time=start_time,\n",
    "    end_time=end_time,\n",
    "    scan_mode=\"S1\",\n",
    "    chunks=\"auto\",\n",
    ")\n",
    "ds"
   ]
  },
  {
   "cell_type": "markdown",
   "id": "4434e4f9",
   "metadata": {},
   "source": [
    "You can list variables, coordinates and dimensions with the following methods"
   ]
  },
  {
   "cell_type": "code",
   "execution_count": null,
   "id": "0f78e7d2",
   "metadata": {},
   "outputs": [],
   "source": [
    "# Available variables\n",
    "variables = list(ds.data_vars)\n",
    "print(\"Available variables: \", variables)\n",
    "# Available coordinates \n",
    "coords = list(ds.coords)\n",
    "print(\"Available coordinates: \", coords)\n",
    "# Available dimensions \n",
    "dims = list(ds.dims)\n",
    "print(\"Available dimensions: \", dims)"
   ]
  },
  {
   "cell_type": "markdown",
   "id": "39b7aee8",
   "metadata": {},
   "source": [
    "As you see, every variable has a prefix which indicates the group in the original HDF file where the variable is stored. \n",
    "You can remove the prefix when opening the dataset by specifying `prefix_group=False`. \n",
    "You can also directly load only a subset of variables, by specifying the `variables` argument. "
   ]
  },
  {
   "cell_type": "code",
   "execution_count": null,
   "id": "aebb3dc3",
   "metadata": {},
   "outputs": [],
   "source": [
    "# List some variables of interest \n",
    "variables = [\n",
    "   \"surfacePrecipitation\",\n",
    "    \"rainWaterPath\",\n",
    "    \"iceWaterPath\",\n",
    "    \"cloudWaterPath\"\n",
    "]\n",
    "# Load the dataset\n",
    "ds = gpm_api.open_dataset(\n",
    "    product=product,\n",
    "    product_type=product_type,\n",
    "    version=version,\n",
    "    start_time=start_time,\n",
    "    end_time=end_time,\n",
    "    variables=variables,\n",
    "    prefix_group=False,\n",
    ")\n",
    "ds"
   ]
  },
  {
   "cell_type": "markdown",
   "id": "758990bf",
   "metadata": {},
   "source": [
    "To select the DataArray corresponding to a single variable:"
   ]
  },
  {
   "cell_type": "code",
   "execution_count": null,
   "id": "80d1df8d",
   "metadata": {},
   "outputs": [],
   "source": [
    "variable = \"surfacePrecipitation\"  \n",
    "da = ds[variable]\n",
    "da"
   ]
  },
  {
   "cell_type": "markdown",
   "id": "f049ecf8",
   "metadata": {},
   "source": [
    "To extract from the DataArray the numerical array you use:"
   ]
  },
  {
   "cell_type": "code",
   "execution_count": null,
   "id": "925f8b5e",
   "metadata": {},
   "outputs": [],
   "source": [
    "print(\"Data type of numerical array: \", type(da.data))\n",
    "da.data"
   ]
  },
  {
   "cell_type": "markdown",
   "id": "d30e062c",
   "metadata": {},
   "source": [
    "If the numerical array data type is `dask.Array`, it means that the data are not yet loaded into RAM memory. \n",
    "To put the data into memory, you need to call the method `compute`, either on the xarray object or on the numerical array."
   ]
  },
  {
   "cell_type": "code",
   "execution_count": null,
   "id": "f57c1b42",
   "metadata": {},
   "outputs": [],
   "source": [
    "# Option 1 \n",
    "da_opt1 = da.compute()\n",
    "print(\"Data type of numerical array: \", type(da_opt1.data))\n",
    "da_opt1.data"
   ]
  },
  {
   "cell_type": "code",
   "execution_count": null,
   "id": "3d19531a",
   "metadata": {},
   "outputs": [],
   "source": [
    "# Option 2\n",
    "print(\"Data type of numerical array: \", type(da.data.compute()))\n",
    "da.data.compute()"
   ]
  },
  {
   "cell_type": "markdown",
   "id": "64ba13df",
   "metadata": {},
   "source": [
    "## 3. Dataset manipulations"
   ]
  },
  {
   "cell_type": "markdown",
   "id": "f2ee38f2",
   "metadata": {},
   "source": [
    "Now, let's first have a look at the methods provided by GPM-API"
   ]
  },
  {
   "cell_type": "code",
   "execution_count": null,
   "id": "5b1aeef7",
   "metadata": {},
   "outputs": [],
   "source": [
    "variable = \"surfacePrecipitation\"\n",
    "da = ds[variable]\n",
    "print(\"xr.Dataset gpm_api methods:\", dir(ds.gpm_api))\n",
    "print(\"\")\n",
    "print(\"xr.DataArray gpm_api methods:\", dir(da.gpm_api))\n"
   ]
  },
  {
   "cell_type": "markdown",
   "id": "a945da9c",
   "metadata": {},
   "source": [
    "The GPM products are either ORBIT (i.e. PMW and RADAR) or GRID (i.e. IMERG) based.\n",
    "You can check the support of the data with the methods `is_grid` and `is_orbit`. "
   ]
  },
  {
   "cell_type": "code",
   "execution_count": null,
   "id": "d83916bd",
   "metadata": {},
   "outputs": [],
   "source": [
    "print(\"Is GPM ORBIT data?: \", ds.gpm_api.is_orbit)\n",
    "print(\"Is GPM GRID data?: \", ds.gpm_api.is_grid)"
   ]
  },
  {
   "cell_type": "markdown",
   "id": "1fca584c",
   "metadata": {},
   "source": [
    "To check Whether the loaded GPM PMW product has contiguous scans, you can use:"
   ]
  },
  {
   "cell_type": "code",
   "execution_count": null,
   "id": "7313391b",
   "metadata": {},
   "outputs": [],
   "source": [
    "print(ds.gpm_api.has_contiguous_scans)\n",
    "print(ds.gpm_api.is_regular)"
   ]
  },
  {
   "cell_type": "markdown",
   "id": "e301f605",
   "metadata": {},
   "source": [
    "In case there are non-contiguous scans, you can obtain the along-track slices over which the dataset is regular:"
   ]
  },
  {
   "cell_type": "code",
   "execution_count": null,
   "id": "cd218280",
   "metadata": {},
   "outputs": [],
   "source": [
    "list_slices = ds.gpm_api.get_slices_contiguous_scans() \n",
    "print(list_slices)"
   ]
  },
  {
   "cell_type": "markdown",
   "id": "eaa359ee",
   "metadata": {},
   "source": [
    "You can then select a regular portion of the dataset with:"
   ]
  },
  {
   "cell_type": "code",
   "execution_count": null,
   "id": "ba980616",
   "metadata": {},
   "outputs": [],
   "source": [
    "slc = list_slices[0]\n",
    "print(slc)"
   ]
  },
  {
   "cell_type": "code",
   "execution_count": null,
   "id": "1809ceae",
   "metadata": {},
   "outputs": [],
   "source": [
    "ds_regular = ds.isel(along_track=slc)\n",
    "ds_regular.gpm_api.is_regular"
   ]
  },
  {
   "cell_type": "markdown",
   "id": "4c11200c",
   "metadata": {},
   "source": [
    "To instead check if the xr.Dataset have just the 2D spatial dimensions, you can use: "
   ]
  },
  {
   "cell_type": "code",
   "execution_count": null,
   "id": "b265159e",
   "metadata": {},
   "outputs": [],
   "source": [
    "ds.gpm_api.is_spatial_2d  "
   ]
  },
  {
   "cell_type": "markdown",
   "id": "991c01ed",
   "metadata": {},
   "source": [
    "## 4. Product visualization"
   ]
  },
  {
   "cell_type": "markdown",
   "id": "b480a43d",
   "metadata": {},
   "source": [
    "The GPM-API provides two ways of displaying the data:\n",
    "- The `plot_map` method plot the data in a geographic projection using the Cartopy `pcolormesh` method\n",
    "- The `plot_image` method plot the data as an image using the Maplotlib `imshow` method"
   ]
  },
  {
   "cell_type": "markdown",
   "id": "0e5b757d",
   "metadata": {},
   "source": [
    "Let's start by plotting the PMW scan in the geographic space"
   ]
  },
  {
   "cell_type": "code",
   "execution_count": null,
   "id": "bc651a32",
   "metadata": {},
   "outputs": [],
   "source": [
    "da = ds[variable].isel(along_track=slice(0,8000))\n",
    "da.gpm_api.plot_map()     "
   ]
  },
  {
   "cell_type": "markdown",
   "id": "c57f85f0",
   "metadata": {},
   "source": [
    "and now as an image, in \"swath\" view:"
   ]
  },
  {
   "cell_type": "code",
   "execution_count": null,
   "id": "adbda6c1",
   "metadata": {},
   "outputs": [],
   "source": [
    "da.gpm_api.plot_image()"
   ]
  },
  {
   "cell_type": "markdown",
   "id": "9de937d7",
   "metadata": {},
   "source": [
    "To facilitate the creation of a figure title, GPM-API also provide a `title` method:"
   ]
  },
  {
   "cell_type": "code",
   "execution_count": null,
   "id": "6ae82506",
   "metadata": {},
   "outputs": [],
   "source": [
    "# Title for a single-timestep dataset\n",
    "print(ds[variable].gpm_api.title(add_timestep=True))\n",
    "print(ds[variable].gpm_api.title(add_timestep=False))"
   ]
  },
  {
   "cell_type": "markdown",
   "id": "c15dcb88",
   "metadata": {},
   "source": [
    "To instead zoom on a specific regions of a `plot_map` figure, you can use the axis method `set_extent`. \n",
    "Note that render the image with this approach can be quite slow, because `plot_map` plots all the data, and then restrict the figure extent over the area of interest. For a more efficient approach, see section `6. Dataset cropping`. "
   ]
  },
  {
   "cell_type": "code",
   "execution_count": null,
   "id": "f66c215e",
   "metadata": {},
   "outputs": [],
   "source": [
    "from gpm_api.utils.countries import get_country_extent\n",
    "title = ds.gpm_api.title(add_timestep=False)\n",
    "extent = get_country_extent(\"United States\")\n",
    "print(\"Extent: \", extent)\n",
    "da = ds[variable].isel(along_track=slice(0, 8000))\n",
    "p = da.gpm_api.plot_map()  \n",
    "_ = p.axes.set_extent(extent)\n",
    "_ = p.axes.set_title(label=title)"
   ]
  },
  {
   "cell_type": "markdown",
   "id": "a517eedb",
   "metadata": {},
   "source": [
    "You can also customize the geographic projection, by specifying the wished Cartopy projection.\n",
    "The available projections are [listed here]( https://scitools.org.uk/cartopy/docs/latest/reference/projections.html?highlight=projections)"
   ]
  },
  {
   "cell_type": "code",
   "execution_count": null,
   "id": "7f5ba4bd",
   "metadata": {},
   "outputs": [],
   "source": [
    "import cartopy.crs as ccrs\n",
    "import matplotlib.pyplot as plt\n",
    "from gpm_api.visualization.plot import plot_cartopy_background\n",
    "\n",
    "# Define some figure options\n",
    "dpi = 100\n",
    "figsize = (12, 10)\n",
    "\n",
    "# Example of polar Cartopy projection\n",
    "crs_proj = ccrs.Orthographic(180, -90)\n",
    "\n",
    "# Subset the data for fast rendering\n",
    "da = ds[variable].isel(along_track=slice(0, 8000))\n",
    "\n",
    "# Create the map\n",
    "fig, ax = plt.subplots(subplot_kw={\"projection\": crs_proj}, figsize=figsize, dpi=dpi)\n",
    "plot_cartopy_background(ax)\n",
    "da.gpm_api.plot_map(ax=ax)\n",
    "ax.set_global()"
   ]
  },
  {
   "cell_type": "markdown",
   "id": "7e87ef03",
   "metadata": {},
   "source": [
    "It is possible to further customize these figures in multiply ways. For example by specifying the own colormap:"
   ]
  },
  {
   "cell_type": "code",
   "execution_count": null,
   "id": "33f8333f",
   "metadata": {},
   "outputs": [],
   "source": [
    "da.gpm_api.plot_map(cmap=\"Spectral\", vmin=0.1, vmax=100)"
   ]
  },
  {
   "cell_type": "markdown",
   "id": "0e1259f5",
   "metadata": {},
   "source": [
    "## 5. Dataset cropping"
   ]
  },
  {
   "cell_type": "markdown",
   "id": "c2709033",
   "metadata": {},
   "source": [
    "GPM-API provides methods to easily spatially subset orbits by extent, country or continent.\n",
    "Note however, that an area can be crossed by multiple orbits. In other words, multiple orbit slices in along-track direction can intersect the area of interest. The method `get_crop_slices_by_extent`, `get_crop_slices_by_country` and ` get_crop_slices_by_continent` enable to retrieve the orbit portions intersecting the area of interest. "
   ]
  },
  {
   "cell_type": "code",
   "execution_count": null,
   "id": "a6c62a98",
   "metadata": {},
   "outputs": [],
   "source": [
    "# Subset the data for fast rendering\n",
    "da = ds[variable].isel(along_track=slice(0, 8000))\n",
    "\n",
    "# Crop by extent                                      \n",
    "extent = (-172, -67, 19, 72) # (xmin, xmax, ymin, ymax)\n",
    "list_slices = da.gpm_api.get_crop_slices_by_extent(extent)\n",
    "print(list_slices)\n",
    "for slc in list_slices:\n",
    "    da_subset = da.isel(along_track=slc)\n",
    "    slice_title = da_subset.gpm_api.title(add_timestep=True)\n",
    "    p = da_subset.gpm_api.plot_map()  \n",
    "    p.axes.set_extent(extent)\n",
    "    p.axes.set_title(label=slice_title)\n"
   ]
  },
  {
   "cell_type": "code",
   "execution_count": null,
   "id": "b2ea20d1",
   "metadata": {},
   "outputs": [],
   "source": [
    "# Crop by country\n",
    "# - Option 1\n",
    "list_slices = da.gpm_api.get_crop_slices_by_country(\"United States\")\n",
    "print(list_slices)\n",
    "# - Option 2\n",
    "from gpm_api.utils.countries import get_country_extent \n",
    "extent = get_country_extent(\"United States\")\n",
    "list_slices = da.gpm_api.get_crop_slices_by_extent(extent)\n",
    "print(list_slices)\n",
    "# - Plot the swath crossing the country\n",
    "for slc in list_slices:\n",
    "    da_subset = da.isel(along_track=slc)\n",
    "    slice_title = da_subset.gpm_api.title(add_timestep=True)\n",
    "    p = da_subset.gpm_api.plot_map()\n",
    "    p.axes.set_extent(extent)\n",
    "    p.axes.set_title(label=slice_title)"
   ]
  },
  {
   "cell_type": "code",
   "execution_count": null,
   "id": "63bc0421",
   "metadata": {},
   "outputs": [],
   "source": [
    "# Crop by continent          \n",
    "# - Option 1\n",
    "list_slices = da.gpm_api.get_crop_slices_by_continent(\"South America\")\n",
    "print(list_slices)\n",
    "# - Option 2\n",
    "from gpm_api.utils.continents import get_continent_extent \n",
    "extent = get_continent_extent(\"South America\")\n",
    "list_slices = da.gpm_api.get_crop_slices_by_extent(extent)\n",
    "print(list_slices)\n",
    "# - Plot the swath crossing the country\n",
    "for slc in list_slices:\n",
    "    da_subset = da.isel(along_track=slc)\n",
    "    slice_title = da_subset.gpm_api.title(add_timestep=True)\n",
    "    p = da_subset.gpm_api.plot_map() \n",
    "    p.axes.set_extent(extent)\n",
    "    p.axes.set_title(label=slice_title)\n"
   ]
  },
  {
   "cell_type": "code",
   "execution_count": null,
   "id": "6a2e7746",
   "metadata": {},
   "outputs": [],
   "source": []
  }
 ],
 "metadata": {
  "kernelspec": {
   "display_name": "Python 3 (ipykernel)",
   "language": "python",
   "name": "python3"
  },
  "language_info": {
   "codemirror_mode": {
    "name": "ipython",
    "version": 3
   },
   "file_extension": ".py",
   "mimetype": "text/x-python",
   "name": "python",
   "nbconvert_exporter": "python",
   "pygments_lexer": "ipython3",
   "version": "3.10.9"
  }
 },
 "nbformat": 4,
 "nbformat_minor": 5
}
