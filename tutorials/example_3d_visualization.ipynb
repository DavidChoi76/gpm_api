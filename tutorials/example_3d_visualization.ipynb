{
 "cells": [
  {
   "cell_type": "code",
   "execution_count": 20,
   "id": "621f2aa4-f7e6-472f-95a3-ab0ec45d2bec",
   "metadata": {},
   "outputs": [],
   "source": [
    "import datetime\n",
    "import gpm_api\n",
    "from gpm_api.visualization.plot_3d import plot_3d_radar_isosurface"
   ]
  },
  {
   "cell_type": "markdown",
   "id": "e00266e5-91fd-41c2-b494-363119c296f6",
   "metadata": {},
   "source": [
    "# Example - Hurricane"
   ]
  },
  {
   "cell_type": "code",
   "execution_count": 21,
   "id": "846adf54-ce81-486c-987a-7f9256211a03",
   "metadata": {},
   "outputs": [
    {
     "name": "stdout",
     "output_type": "stream",
     "text": [
      "'scan_mode' has not been specified. Default to FS.\n"
     ]
    }
   ],
   "source": [
    "# Define analysis time period\n",
    "start_time = datetime.datetime.strptime(\"2020-10-28 08:00:00\", \"%Y-%m-%d %H:%M:%S\")\n",
    "end_time = datetime.datetime.strptime(\"2020-10-28 09:00:00\", \"%Y-%m-%d %H:%M:%S\")\n",
    "\n",
    "# Define products to analyze\n",
    "product = \"2A-DPR\"    # 2A-PR\n",
    "product_type = \"RS\"  \n",
    "version = 7\n",
    "\n",
    "# Load the 2A-DPR dataset\n",
    "# - If scan_mode is not specified, it automatically load one! \n",
    "ds = gpm_api.open_dataset(\n",
    "    product=product,\n",
    "    product_type=product_type,\n",
    "    version=version,\n",
    "    start_time=start_time,\n",
    "    end_time=end_time,\n",
    ")\n",
    "ds\n",
    "\n",
    "bbox = [-94, -89, 22.5, 27.5]\n",
    "ds_patch = ds.gpm_api.crop(bbox)"
   ]
  },
  {
   "cell_type": "markdown",
   "id": "f2e5790e-52c8-4740-b60a-3e7e4d968a2f",
   "metadata": {},
   "source": [
    "Visualize the 3D Ku band reflectivity isosurface using pyvista "
   ]
  },
  {
   "cell_type": "code",
   "execution_count": null,
   "id": "a623fd4b-6bd2-4207-a453-d9a8f78dcf0c",
   "metadata": {},
   "outputs": [],
   "source": [
    "plot_3d_radar_isosurface(ds_patch, \n",
    "                         radar_frequency=\"Ku\",\n",
    "                         isovalues=[30,40,50],\n",
    "                         opacities=[0.3, 0.5, 1],\n",
    "                         )"
   ]
  },
  {
   "cell_type": "markdown",
   "id": "2480b4a9-5cd8-472a-9d2d-85fe8ecbb729",
   "metadata": {},
   "source": [
    "# Example - Another random event"
   ]
  },
  {
   "cell_type": "code",
   "execution_count": 22,
   "id": "9f8978b3-b937-4891-9175-034e5e7d0532",
   "metadata": {},
   "outputs": [
    {
     "name": "stdout",
     "output_type": "stream",
     "text": [
      "'scan_mode' has not been specified. Default to FS.\n"
     ]
    }
   ],
   "source": [
    "# Specify the time period you are interested in \n",
    "start_time = datetime.datetime.strptime(\"2020-07-05 02:00:00\", \"%Y-%m-%d %H:%M:%S\")\n",
    "end_time = datetime.datetime.strptime(\"2020-07-05 06:00:00\", \"%Y-%m-%d %H:%M:%S\")\n",
    "# Specify the product and product type \n",
    "product = \"2A-DPR\"    # 2A-PR\n",
    "product_type = \"RS\"   \n",
    "# Specify the version\n",
    "version = 7\n",
    "\n",
    "# Load the 2A-DPR dataset\n",
    "# - If scan_mode is not specified, it automatically load one! \n",
    "ds = gpm_api.open_dataset(\n",
    "    product=product,\n",
    "    product_type=product_type,\n",
    "    version=version,\n",
    "    start_time=start_time,\n",
    "    end_time=end_time,\n",
    ")\n",
    "ds\n",
    "\n",
    "isel_dict = {\"cross_track\": slice(0,49), \"along_track\": slice(884, 984)}\n",
    "ds_patch = ds.isel(isel_dict)"
   ]
  },
  {
   "cell_type": "markdown",
   "id": "64d8fea0-f1e9-41f2-8f18-40cc638ab857",
   "metadata": {},
   "source": [
    "Visualize the 3D Ku band reflectivity isosurface using pyvista"
   ]
  },
  {
   "cell_type": "code",
   "execution_count": null,
   "id": "7b125688-06ba-4eed-91fe-f1d68a3ea96f",
   "metadata": {},
   "outputs": [],
   "source": [
    "plot_3d_radar_isosurface(ds_patch, \n",
    "                         radar_frequency=\"Ku\",\n",
    "                         isovalues=[20,30,40],\n",
    "                         opacities=[0.05, 0.4, 1],\n",
    "                         add_colorbar=True,\n",
    "                         )"
   ]
  }
 ],
 "metadata": {
  "kernelspec": {
   "display_name": "dev",
   "language": "python",
   "name": "dev"
  },
  "language_info": {
   "codemirror_mode": {
    "name": "ipython",
    "version": 3
   },
   "file_extension": ".py",
   "mimetype": "text/x-python",
   "name": "python",
   "nbconvert_exporter": "python",
   "pygments_lexer": "ipython3",
   "version": "3.11.4"
  }
 },
 "nbformat": 4,
 "nbformat_minor": 5
}
